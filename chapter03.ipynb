{
 "cells": [
  {
   "cell_type": "markdown",
   "metadata": {},
   "source": [
    "# 第三讲：乘法和逆矩阵\n",
    "\n",
    "上一讲大概介绍了矩阵乘法和逆矩阵，本讲就来做进一步说明。"
   ]
  },
  {
   "cell_type": "markdown",
   "metadata": {},
   "source": [
    "# 矩阵乘法\n",
    "\n",
    "首先举了一个简单的例子，说明矩阵相乘时，乘积矩阵中的每一个数字是怎么得来的。假设两个矩阵分别为 $A$ 和 $B$，下面是 $AB=C$：\n",
    "\n",
    "$$\\begin{bmatrix}&&\\\\\\cdots&row_i&\\cdots\\\\&&\\end{bmatrix}\\begin{bmatrix}&\\vdots&\\\\&col_j&\\\\&\\vdots&\\end{bmatrix}=\\begin{bmatrix}&&\\\\&c_{ij}&\\\\&&\\end{bmatrix}$$\n",
    "\n",
    "$C$矩阵中的第$i$行第$j$列元素$c_{ij}$ 其实是$A$矩阵第$i$行点乘$B$矩阵第$j$列，下面$a_{ik}$是$A$矩阵的第$i$行第$k$列元素，$b_{kj}$是$B$矩阵的第$k$行第$j$列元素：\n",
    "\n",
    "$$c_{ij}=row_i\\cdot column_j=\\sum_{k=1}^na_{ik}b_{kj}$$\n",
    "\n",
    "教授接着讲解什么样的两个矩阵可以相乘，直接给出结论：**$A$的总列数必须与$B$的总行数相等**。也就是说如果 $A$ 是$m\\times n$的矩阵，那么 $B$ 必须是$n\\times p$ 的矩阵，两矩阵相乘有 $AB=C$，$C$是一个$m\\times p$矩阵。上面就是乘法的标准法则，是我们常用的方法。不过对于矩阵的乘法，有其他几种方法，比如用整行或者整列去思考，值得在下面讲解。\n"
   ]
  },
  {
   "cell_type": "markdown",
   "metadata": {},
   "source": [
    "## 整列相乘\n",
    "\n",
    "假设 $AB=C$，$A$ 是$m\\times n$的矩阵，$B$ 是$n\\times p$ 的矩阵，$C$是一个$m\\times p$矩阵，现在来从**整列的角度**来考虑矩阵乘法。前面我们学习了如何**用矩阵乘以列向量**，现在可以将其用于两个矩阵的乘法。这里将矩阵$B$看作是p个单独的列向量（只是排在一起而已），然后用矩阵 $A$乘以每个列向量。对于$A$乘以$B$的第一列，结果是什么呢？**C的第一列**，我们一次得到了结果矩阵$C$的一整列，同样，$A$乘以$B$的第二列，结果是$C$的第二列，以次类推。\n",
    "\n",
    "$$\\begin{bmatrix}&\\vdots&\\\\\\cdots&A_{m \\times n}&\\cdots\\\\&\\vdots&\\\\\\end{bmatrix} \\begin{bmatrix} \\vdots&\\vdots&&\\vdots\\\\ B_{col1}&B_{col2}&\\cdots&B_{colp} \\\\\\vdots&\\vdots&&\\vdots\\end{bmatrix} = \\begin{bmatrix} \\vdots&\\vdots&&\\vdots\\\\  A \\times B_{col1}&A \\times B_{col2}&\\cdots&A \\times B_{colp} \\\\ \\vdots&\\vdots&&\\vdots \\end{bmatrix}$$\n",
    "    \n",
    "上面运算中，矩阵$A$乘以$B$的第$j$列，就得到$C$矩阵的第$j$列，即**$C$的第$j$列是$A$列向量以$B$的第$j$列作为系数所求得的线性组合：**\n",
    "\n",
    "$$C_{colj}=A \\times B_{colj} = b_{1j}A_{col1}+b_{2j}A_{col2}+\\cdots+b_{nj}A_{coln}$$\n",
    "\n",
    "简单来说，$C$中每一列都是$A$各列的线性组合，这就是按照整列的角度看矩阵乘法。"
   ]
  },
  {
   "cell_type": "markdown",
   "metadata": {
    "collapsed": true
   },
   "source": [
    "## 整行相乘\n",
    "\n",
    "同样的，也可以从整行的角度来看矩阵乘法。我们已经知道如何用**行向量乘以矩阵**，可以将其用于矩阵的乘法。这里将矩阵$A$看作是m个单独的行向量，然后用每个行向量乘以矩阵$B$。$A$的第一行乘以矩阵$B$，结果是什么呢？**$C$的第一行**，我们一次就得到了结果矩阵$C$的第一行。同样，$A$的第二行乘以$B$，得到$C$的第二行，以此类推：\n",
    "\n",
    "$$\\begin{bmatrix}\\cdots& A_{row1} & \\cdots \\\\ \\cdots& A_{row2} & \\cdots \\\\ & \\vdots & \\\\ \\cdots& A_{rowm} & \\cdots\\end{bmatrix} \\begin{bmatrix}&\\vdots&\\\\\\cdots&B_{n \\times p}&\\cdots\\\\&\\vdots&\\\\\\end{bmatrix} = \\begin{bmatrix}\\cdots& A_{row1} \\times B & \\cdots \\\\ \\cdots& A_{row2} \\times B & \\cdots \\\\ & \\vdots & \\\\ \\cdots& A_{rowm} \\times B & \\cdots\\end{bmatrix}$$\n",
    "    \n",
    "上面运算中，$A$的第$i$个行向量乘以矩阵$B$，就得到$C$矩阵的第$i$行，即**$C$的第$i$行是$B$的行向量以$A$的第$i$行作为系数所求的的线性组合：**\n",
    "\n",
    "$$C_{rowi}=A_{rowi} \\times B = a_{i1}B_{row1}+a_{i2}B_{row2}+\\cdots+a_{in}B_{rown}$$\n",
    "\n",
    "简单来说，$C$中每一行都是$B$各行的线性组合，这就是按照整列的角度看矩阵乘法。"
   ]
  },
  {
   "cell_type": "markdown",
   "metadata": {},
   "source": [
    "## 列乘以行\n",
    "\n",
    "上面讲了常规方法、列方法、行方法，下面来看另一种方法。在常规方法中我们用$A$中的一行乘以$B$中的一列，现在如果用$A$的一列$A_{col}$乘以$B$中的某行$B_{row}$，结果是什么呢？我们知道结果肯定不是$C$中的一个数，因为$A_{col}$是一个$m \\times 1$的向量，$B_{row}$是一个$1 \\times p$的向量，所以 $A_{col} \\times B_{row}$ 是一个 $m \\times p$ 的矩阵。然后教授直接给出结论（不知道怎么发现的？）：**$AB$等于$A$各列与$B$对应行乘积之和**：\n",
    "    \n",
    "$$\\begin{bmatrix}\\vdots&\\vdots&&\\vdots&\\\\A_{col1}&A_{col2}&\\cdots&A_{coln}\\\\\\vdots&\\vdots&&\\vdots&\\end{bmatrix}\\begin{bmatrix}&\\cdots&B_{row1}&\\cdots&\\\\&\\cdots&B_{row2}&\\cdots\\\\&&\\vdots&\\\\&\\cdots&B_{rown}&\\cdots&\\end{bmatrix}=A_{col1}B_{row1}+A_{col2}B_{row2}+\\cdots+A_{coln}B_{rown}=\\sum_{i=1}^{i=n}A_{col_i}B_{row_i}$$\n",
    "    \n",
    "## 分块乘法\n",
    "\n",
    "除了上面的方法，还可以将矩阵切割成块，对块进行乘法。还是以$AB=C$为例，为了方便将A分为4块，同时将B分为4块，如下：\n",
    "\n",
    "$$\\left[\\begin{array}{c|c}A_1&A_2\\\\\\hline A_3&A_4\\end{array}\\right]\\left[\\begin{array}{c|c}B_1&B_2\\\\\\hline B_3&B_4\\end{array}\\right]=\\left[\\begin{array}{c|c}A_1B_1+A_2B_3&A_1B_2+A_2B_4\\\\\\hline A_3B_1+A_4B_3&A_3B_2+A_4B_4\\end{array}\\right]$$\n",
    "\n",
    "上面展示了分块计算的规律，其实可以将分块看作一个数字，然后就像普通矩阵一样去做乘法。当然，没有人一下子就知道这样是对的，不过可以证明这样没错。此外要注意，在分块时要保证分块后，相应的块如$A_1B_1$、$A_2B_3$等确实能够做矩阵乘法。"
   ]
  },
  {
   "cell_type": "markdown",
   "metadata": {},
   "source": [
    "## 逆（方阵）\n",
    "\n",
    "对于方阵 A 来说，它可能有逆，也可能没有，**并不是所有的矩阵都有逆**。而如果方阵可逆，那么就存在某个矩阵（称为A的逆矩阵）$A^{-1}$，使的 $A^{-1}A=I$。这里逆矩阵在A的左侧，因此是左逆矩阵，还可以有右逆矩阵。教授这里提前剧透，对于方阵，左逆和右逆是相等的 $A^{-1}A=I=AA^{-1}$，但是对于非方阵（长方形矩阵），其左逆不等于右逆。\n",
    "\n",
    "对于这些有逆的矩阵，我们称其为**可逆的或非奇异的**。我们先来看看奇异矩阵（不可逆的）：比如 $A=\\begin{bmatrix}1&2\\\\3&6\\end{bmatrix}$，为什么它没有逆？在后面将要学习的行列式中，会发现这个矩阵的行列式为$0$。\n",
    "\n",
    "还有别的方法来解释矩阵$A$为什么不可逆吗？也就是说到底有没有可能使$A$乘以某个矩阵$B$得到单位矩阵$I$。回顾我们刚才讲的矩阵乘法，按照整列的方式，$AB$中每一列都是$A$各列的线性组合。这样可能吗？不可能！单位矩阵的第一列是 $\\begin{bmatrix}1\\\\0\\end{bmatrix}$，而$A$中 $\\begin{bmatrix}1\\\\2\\end{bmatrix}$、 $\\begin{bmatrix}3\\\\6\\end{bmatrix}$两列共线，它们的线性组合均在此直线上，所以我们不可能从$AB$的乘积中得到单位矩阵$I$。\n",
    "\n",
    "事实上，还有另一种解释方法，**如果存在非零向量$x$，使得$Ax=0$，则矩阵$A$不可逆**。什么样的向量能够使 $Ax=0$？以上面矩阵A为例：\n",
    "\n",
    "$$Ax = \\begin{bmatrix}1&2\\\\3&6\\end{bmatrix}\\begin{bmatrix}x\\end{bmatrix}=\\begin{bmatrix}0\\\\0\\end{bmatrix}$$\n",
    "\n",
    "$x$ 是什么呢？答案是 $x=\\begin{bmatrix}3\\\\-1\\end{bmatrix}$（注意零向量总能满足 $Ax=0$），它表示 3 个列一加上一个 -1 列二。\n",
    "\n",
    "可以用反证法来证明：如果对于非零的$x$仍有$Ax=0$，而$A$有逆$A^{-1}$，则$A^{-1}Ax=A^{-1}0$，即$x=0$，与题设矛盾，得证。\n",
    "\n",
    "现在来看看什么矩阵有逆，设$A=\\begin{bmatrix}1&3\\\\2&7\\end{bmatrix}$，我们来求$A^{-1}$。\n",
    "\n",
    "$$\\begin{bmatrix}1&3\\\\2&7\\end{bmatrix}\\begin{bmatrix}a&c\\\\b&d\\end{bmatrix}=\\begin{bmatrix}1&0\\\\0&1\\end{bmatrix}$$\n",
    "\n",
    "使用列向量线性组合的思想，我们知道$A^{-1}$的第一列满足下面方程：\n",
    "\n",
    "$$\\begin{bmatrix}1&3\\\\2&7\\end{bmatrix} \\times \\begin{bmatrix}a\\\\b\\end{bmatrix} = \\begin{bmatrix}1\\\\0\\end{bmatrix}$$\n",
    "\n",
    "同理，第二列满足\n",
    "\n",
    "$$\\begin{bmatrix}1&3\\\\2&7\\end{bmatrix} \\times \\begin{bmatrix}c\\\\d\\end{bmatrix} = \\begin{bmatrix}0\\\\1\\end{bmatrix}$$\n",
    "\n",
    "可以看出，**上面的求逆其实和解两个方程组是一回事**。其中一个方程组右侧向量为 $\\begin{bmatrix}1\\\\0\\end{bmatrix}$，另一个为 $\\begin{bmatrix}0\\\\1\\end{bmatrix}$。也就是说**$A$乘以$A^{-1}$的第$j$列，能够得到$I$的第$j$列，这时我们会得到一个关于列的方程组**。这又回到了高斯的方法，回到了求解方程组。"
   ]
  },
  {
   "cell_type": "markdown",
   "metadata": {},
   "source": [
    "## 高斯-若尔当（Gauss-Jordan）\n",
    "\n",
    "接下来介绍高斯-若尔当（Gauss-Jordan）方法，该方法可以一次处理所有的方程组。以上面的$A=\\begin{bmatrix}1&3\\\\2&7\\end{bmatrix}$ 为例，要求解的两个方程组为：\n",
    "\n",
    "$$\\begin{cases}\\begin{bmatrix}1&3\\\\2&7\\end{bmatrix}\\begin{bmatrix}a\\\\b\\end{bmatrix}=\\begin{bmatrix}1\\\\0\\end{bmatrix}\\\\\\begin{bmatrix}1&3\\\\2&7\\end{bmatrix}\\begin{bmatrix}c\\\\d\\end{bmatrix}=\\begin{bmatrix}0\\\\1\\end{bmatrix}\\end{cases}$$\n",
    "\n",
    "我们想要同时解这两个方程组。可以构造这样一个矩阵 $\\left[\\begin{array}{c|c}A&I\\end{array}\\right] = \\left[\\begin{array}{cc|cc}1&3&1&0\\\\2&7&0&1\\end{array}\\right]$，接下来用消元法：\n",
    "\n",
    "$$\\left[\\begin{array}{cc|cc}1&3&1&0\\\\2&7&0&1\\end{array}\\right]\\xrightarrow{row_2-2row_1}\\left[\\begin{array}{cc|cc}1&3&1&0\\\\0&1&-2&1\\end{array}\\right]$$\n",
    "\n",
    "高斯消元做到这里就不管了(对于单个方程组来说，这样就可以通过回代来求出解)，若尔当则继续往下消元，消去第一行后面的3，使其为单位矩阵（从而能够同时解多个方程组)：\n",
    "\n",
    "$$\\left[\\begin{array}{cc|cc}1&3&1&0\\\\0&1&-2&1\\end{array}\\right]\\xrightarrow{row_1-3row_2}\\left[\\begin{array}{cc|cc}1&0&7&-3\\\\0&1&-2&1\\end{array}\\right]$$\n",
    "\n",
    "于是，我们就将矩阵从$\\left[\\begin{array}{c|c}A&I\\end{array}\\right]$变为$\\left[\\begin{array}{c|c}I&A^{-1}\\end{array}\\right]$。\n",
    "\n",
    "高斯-若尔当法的本质是使用消元矩阵$E$，对$A$进行操作，$E\\left[\\begin{array}{c|c}A&I\\end{array}\\right]$，利用一步步消元有$EA=I$，进而得到$\\left[\\begin{array}{c|c}I&A^{-1}\\end{array}\\right]$，其实这个消元矩阵$E$就是$A^{-1}$，而高斯-若尔当法中的$I$只是负责记录消元的每一步操作，待消元完成，逆矩阵就自然出现了。"
   ]
  }
 ],
 "metadata": {
  "kernelspec": {
   "display_name": "Python 2",
   "language": "python",
   "name": "python2"
  },
  "language_info": {
   "codemirror_mode": {
    "name": "ipython",
    "version": 2
   },
   "file_extension": ".py",
   "mimetype": "text/x-python",
   "name": "python",
   "nbconvert_exporter": "python",
   "pygments_lexer": "ipython2",
   "version": "2.7.10"
  }
 },
 "nbformat": 4,
 "nbformat_minor": 0
}
