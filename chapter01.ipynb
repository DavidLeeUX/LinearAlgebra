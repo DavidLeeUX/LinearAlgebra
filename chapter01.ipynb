{
 "cells": [
  {
   "cell_type": "markdown",
   "metadata": {},
   "source": [
    "# 第一讲：方程组的几何解释\n",
    "\n",
    "本课从求解方程组来开始。教授首先假设方程组中未知数和方程数目一样，也就是说有n个未知数，则有n个方程。那么如何去看待这个方程组呢？教授提出可以从“**行图像**”和“**列图像**”角度来看：\n",
    "\n",
    "* 行图像：一个行图像显示一个方程；\n",
    "* 列图像：很重要，后面会引入。\n",
    "* 矩阵：行和列组成**矩阵**，可以用矩阵的角度来审视方程组。\n",
    "\n",
    "给一个简单的例子：方程组有$2$个未知数，一共有$2$个方程：\n",
    "$$\\begin{cases}2x&-y&=0\\\\-x&+2y&=3\\end{cases}$$\n",
    "\n",
    "写作矩阵形式有$\\begin{bmatrix}2&-1\\\\-1&2\\end{bmatrix}\\begin{bmatrix}x\\\\y\\end{bmatrix}=\\begin{bmatrix}0\\\\3\\end{bmatrix}$，通常我们把第一个矩阵称为**系数矩阵**$A$，把 $\\begin{bmatrix}x\\\\y\\end{bmatrix}$ 叫做未知数向量$\\boldsymbol{x}$，等号右边矩阵称为向量$\\boldsymbol{b}$，于是线性方程组可以表示为$A\\boldsymbol{x}=\\boldsymbol{b}$。\n",
    "\n",
    "我们来看行图像，一次取一行，然后在 x,y 平面做图，可以看到两直线相交，交点就是方程组的解。"
   ]
  },
  {
   "cell_type": "code",
   "execution_count": 11,
   "metadata": {
    "collapsed": false
   },
   "outputs": [
    {
     "data": {
      "image/png": "[encoded data removed]",
      "text/plain": [
       "<matplotlib.figure.Figure at 0x10b2c5c50>"
      ]
     },
     "metadata": {},
     "output_type": "display_data"
    }
   ],
   "source": [
    "%matplotlib inline\n",
    "import matplotlib.pyplot as plt\n",
    "import numpy as np\n",
    "\n",
    "x = [-2, 2, -2, 2]\n",
    "y = [-4, 4, 0.5, 2.5]\n",
    "\n",
    "fig = plt.figure()\n",
    "plt.axhline(y=0, c='black')\n",
    "plt.axvline(x=0, c='black')\n",
    "\n",
    "plt.plot(x[:2], y[:2], x[2:], y[2:])\n",
    "\n",
    "plt.draw()"
   ]
  },
  {
   "cell_type": "markdown",
   "metadata": {},
   "source": [
    "\n",
    "接下来看列图像，可以写成如下的方程$$x\\begin{bmatrix}2\\\\-1\\end{bmatrix}+y\\begin{bmatrix}-1\\\\2\\end{bmatrix}=\\begin{bmatrix}0\\\\3\\end{bmatrix}$$\n",
    "\n",
    "观察可以知道前面提到过的矩阵 $\\begin{bmatrix}2&-1\\\\-1&2\\end{bmatrix}\\begin{bmatrix}x\\\\y\\end{bmatrix}=\\begin{bmatrix}0\\\\3\\end{bmatrix}$ 的列是我们这里的向量$\\boldsymbol{col_1}$和$\\boldsymbol{col_2}$（我们把第一个向量称作$\\boldsymbol{col_1}$，第二个向量称作$\\boldsymbol{col_2}$，以表示第一列向量和第二列向量）。问题来了，我们如何去解读这个方程呢？教授指出就是要找出合适的$x$，$y$，使得$x$点乘向量$\\boldsymbol{col_1}$加上$y$点乘$\\boldsymbol{col_2}$得到等式右边的向量。也就是找到正确的**线性组合（Linear Combination）**，使得等式成立。这里第一次提出线性组合的概念，需要好好理解线性组合的上下文。\n",
    "\n",
    "上面的方程是代数形式，那么它的几何样子长什么样子呢？如何画图呢？考虑到这些向量有两个分量，可以在平面直角坐标系做图。首先画出两个向量，然后找出一种线性组合使得新的向量为等式右边的向量。"
   ]
  },
  {
   "cell_type": "code",
   "execution_count": 3,
   "metadata": {
    "collapsed": false
   },
   "outputs": [
    {
     "data": {
      "image/png": "[encoded data removed]",
      "text/plain": [
       "<matplotlib.figure.Figure at 0x11909a320>"
      ]
     },
     "metadata": {},
     "output_type": "display_data"
    }
   ],
   "source": [
    "from functools import partial\n",
    "\n",
    "fig = plt.figure()\n",
    "plt.axhline(y=0, c='black')\n",
    "plt.axvline(x=0, c='black')\n",
    "ax = plt.gca()\n",
    "ax.set_xlim(-2.5, 2.5)\n",
    "ax.set_ylim(-3, 4)\n",
    "\n",
    "arrow_vector = partial(plt.arrow, width=0.01, head_width=0.1, head_length=0.2, length_includes_head=True)\n",
    "\n",
    "arrow_vector(0, 0, 2, -1, color='g')\n",
    "arrow_vector(0, 0, -1, 2, color='c')\n",
    "arrow_vector(2, -1, -2, 4, color='b')\n",
    "arrow_vector(0, 0, 0, 3, width=0.05, color='r')\n",
    "\n",
    "plt.draw()"
   ]
  },
  {
   "cell_type": "markdown",
   "metadata": {},
   "source": [
    "这个例子很简单，我们可以轻易要等到向量 $\\begin{bmatrix}0\\\\3\\end{bmatrix}$（红色表示），需要$\\boldsymbol{col_1}$(绿色表示)加上两倍的$\\boldsymbol{col_2}$（蓝绿色表示），即：\n",
    "\n",
    "$$1\\begin{bmatrix}2\\\\-1\\end{bmatrix}+2\\begin{bmatrix}-1\\\\2\\end{bmatrix}=\\begin{bmatrix}0\\\\3\\end{bmatrix}$$\n",
    "\n",
    "接着，我们继续回到这个方程$x\\begin{bmatrix}2\\\\-1\\end{bmatrix}+y\\begin{bmatrix}-1\\\\2\\end{bmatrix}=\\begin{bmatrix}0\\\\3\\end{bmatrix}$。考虑一个问题，**如果选取所有的x、y组合，那么$\\boldsymbol{col_1}$和$\\boldsymbol{col_2}$的线性组合能够得到什么结果呢？** 答案是`它们的线性组合会布满整个坐标平面`。（后面会遇到！）\n",
    "\n",
    "下面进入三个未知数的方程组：\n",
    "$$\\begin{cases}2x&-y&&=0\\\\-x&+2y&-z&=-1\\\\&-3y&+4z&=4\\end{cases}$$\n",
    "\n",
    "如何理解这个方程组呢？行图像是一种方法，列图像则是另一种重要的方法。教授说矩阵形式看上去简洁（我不觉得啊），于是先将方程组写作矩阵形式$A\\boldsymbol{x}=\\boldsymbol{b}$，其中：\n",
    "\n",
    "$$A=\\begin{bmatrix}2&-1&0\\\\-1&2&-1\\\\0&-3&4\\end{bmatrix},\\ b=\\begin{bmatrix}0\\\\-1\\\\4\\end{bmatrix}$$\n",
    "\n",
    "下面来作行图像，我们需要一个三维直角坐标系。对于每个单独的方程来说，都要找到这个方程的所有解。结论：每个方程将确定一个平面，而例子中的三个平面会相交于一点，这个点就是方程组的解。（没有证明过程！）这里的行图像很难画出来，如果是四维的话，将更难画图。\n",
    "\n",
    "好了，不管行图像，下面来看列图像。同样的，将方程组写成列向量的线性组合：\n",
    "\n",
    "$$x\\begin{bmatrix}2\\\\-1\\\\0\\end{bmatrix}+y\\begin{bmatrix}-1\\\\2\\\\-3\\end{bmatrix}+z\\begin{bmatrix}0\\\\-1\\\\4\\end{bmatrix}=\\begin{bmatrix}0\\\\-1\\\\4\\end{bmatrix}$$\n",
    "\n",
    "需要将左侧的三个向量进行线性组合，然后得到右侧向量。教授特意安排的例子中最后一个列向量恰巧等于等式右边的$b$向量，所以我们需要的线性组合为$x=0,y=0,z=1$。假设我们令$b=\\begin{bmatrix}1\\\\1\\\\-3\\end{bmatrix}$，则需要的线性组合为$x=1,y=1,z=0$。我们并不能总是这么轻易的求出正确的线性组合，所以下一讲将介绍**消元法**——一种线性方程组的系统性解法。\n",
    "\n",
    "现在，我们需要考虑，对于任意的$b$，是否都能求解$A\\boldsymbol{x}=\\boldsymbol{b}$？用列向量线性组合的观点阐述就是，**列向量的线性组合能否覆盖整个三维向量空间？**对上面这个例子，答案是肯定的，这个例子中的$A$是我们喜欢的矩阵类型，但是对另一些矩阵，答案是否定的。那么在什么情况下，三个向量的线性组合得不到$\\boldsymbol{b}$？\n",
    "\n",
    "如果三个向量在同一个平面上，那么他们的线性组合也一定都在这个平面上。举个例子，比如$\\boldsymbol{col_3}=\\boldsymbol{col_1}+\\boldsymbol{col_2}$，那么不管怎么组合，这三个向量的结果都逃不出这个平面，因此当$\\boldsymbol{b}$不在平面内，这三个列向量就无法构造出$\\boldsymbol{b}$。在后面的课程中，我们会了解到这种情形称为**奇异**、**矩阵不可逆**。\n",
    "\n",
    "下面我们推广到九维空间，每个方程有九个未知数，共九个方程，此时已经无法从坐标图像中描述问题了，但是我们依然可以从求九维列向量线性组合的角度解决问题，仍然是上面的问题，是否总能得到$\\boldsymbol{b}$？当然这仍取决于这九个向量，如果我们取一些并不相互独立的向量，则答案是否定的，比如取了九列但其实只相当于八列，有一列毫无贡献（这一列是前面列的某种线性组合），则会有一部分$\\boldsymbol{b}$无法求得。\n",
    "\n",
    "接下来介绍方程的矩阵形式$A\\boldsymbol{x}=\\boldsymbol{b}$，这是一种乘法运算，举个例子，取$A=\\begin{bmatrix}2&5\\\\1&3\\end{bmatrix},\\ \\boldsymbol{x}=\\begin{bmatrix}1\\\\2\\end{bmatrix}$，来看如何计算矩阵乘以向量：\n",
    "\n",
    "* 我们依然使用列向量线性组合的方式，一次计算一列，$\\begin{bmatrix}2&5\\\\1&3\\end{bmatrix}\\begin{bmatrix}1\\\\2\\end{bmatrix}=1\\begin{bmatrix}2\\\\1\\end{bmatrix}+2\\begin{bmatrix}5\\\\3\\end{bmatrix}=\\begin{bmatrix}12\\\\7\\end{bmatrix}$\n",
    "* 另一种方法，使用向量内积，矩阵第一行向量点乘$x$向量$\\begin{bmatrix}2&5\\end{bmatrix}\\cdot\\begin{bmatrix}1&2\\end{bmatrix}^T=12,\\ \\begin{bmatrix}1&3\\end{bmatrix}\\cdot\\begin{bmatrix}1&2\\end{bmatrix}^T=7$。\n",
    "\n",
    "教授建议使用第一种方法，将$A\\boldsymbol{x}$看做$A$列向量的线性组合。"
   ]
  }
 ],
 "metadata": {
  "kernelspec": {
   "display_name": "Python 2",
   "language": "python",
   "name": "python2"
  },
  "language_info": {
   "codemirror_mode": {
    "name": "ipython",
    "version": 2
   },
   "file_extension": ".py",
   "mimetype": "text/x-python",
   "name": "python",
   "nbconvert_exporter": "python",
   "pygments_lexer": "ipython2",
   "version": "2.7.10"
  }
 },
 "nbformat": 4,
 "nbformat_minor": 0
}
